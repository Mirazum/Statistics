{
 "cells": [
  {
   "cell_type": "markdown",
   "metadata": {},
   "source": [
    "# Task_1"
   ]
  },
  {
   "cell_type": "markdown",
   "metadata": {},
   "source": [
    "Difference between n and (n-1):\n",
    "\n",
    "(n-1) is called the degrees of freedom and if we use n the estimator will be unbiased.\n",
    "\n",
    "The population variance from a sample when the population mean is unknown, the uncorrected sample variance is the mean of the squares of deviations of sample values from the sample mean (i.e. using a multiplicative factor 1/n). In this case, the sample variance is a biased estimator of the population variance.\n",
    "When Multiplying with the uncorrected sample variance by the factor n/(n-1) gives an unbiased estimator of the population variance.\n"
   ]
  },
  {
   "cell_type": "markdown",
   "metadata": {},
   "source": [
    "# Task_2"
   ]
  },
  {
   "cell_type": "markdown",
   "metadata": {},
   "source": [
    "Calculation of covariance matrix:\n",
    "    \n",
    "covariance matrix. is simply set of variances and covariances between pairs of columns. A position of any element in the covariance matrix corresponds to variance/covariance between a pair of two columns.\n",
    "Each row of covariance matrix in the sample or population depending on which option, needs to be converted to a deviation score based on the aggregate data within each column. Then, we find the deviation score sums for each feature measured against all other features. The last step is to divide each element by either n - 1 if we're using a sample or N if we are using the \n",
    "entire population. \n"
   ]
  },
  {
   "cell_type": "markdown",
   "metadata": {},
   "source": [
    "# Task_3"
   ]
  },
  {
   "cell_type": "code",
   "execution_count": 2,
   "metadata": {},
   "outputs": [],
   "source": [
    "#properties of covariance matrix"
   ]
  },
  {
   "cell_type": "markdown",
   "metadata": {},
   "source": [
    "Addition to constant vectors<br>\n",
    "\n",
    "Let $a$ be a constant K1 vector and let x be a K1 random vector. Then,\n",
    "$$Var[a + x] = Var[x]$$"
   ]
  },
  {
   "cell_type": "markdown",
   "metadata": {},
   "source": [
    "Multiplication by constant matrices<br>\n",
    "\n",
    "Let $b$ be a constant $M * K$ matrix and let x be a K*1 random vector. Then,\n",
    "$$Var[bx] = bVar[x] b ^t$$"
   ]
  },
  {
   "cell_type": "markdown",
   "metadata": {},
   "source": [
    "Linear transformations<br>\n",
    "\n",
    "Let $a$ be a constant $M * 1$ vector, $b$ be a constant $M * K$ matrix and $x$ a Kx1 random vector. Then, combining the two properties above, one obtains\n",
    "$$Var[a + bx] = bVar[x] b ^t$$"
   ]
  },
  {
   "cell_type": "markdown",
   "metadata": {},
   "source": [
    "Symmetry<br>\n",
    "\n",
    "The covariance matrix $Var[x]$ is a symmetric matrix, that is, it is equal to its transpose:<br>\n",
    "$$Var[x] b ^t = E[(x - E[x])(x - E[x]^t)]^t$$<br> \n",
    "$$= E[((x - E[x])(x - E[x]^t)^t]$$<br>\n",
    "$$= E[(x - E[x])(x - E[x]^t)]$$<br>\n",
    "$$= Var[x] $$"
   ]
  },
  {
   "cell_type": "code",
   "execution_count": 1,
   "metadata": {},
   "outputs": [],
   "source": [
    "import numpy as np\n",
    "import statsmodels.api as sm\n",
    "import pylab"
   ]
  },
  {
   "cell_type": "code",
   "execution_count": 2,
   "metadata": {},
   "outputs": [
    {
     "data": {
      "image/png": "[encoded data removed]",
      "text/plain": [
       "<Figure size 432x288 with 1 Axes>"
      ]
     },
     "metadata": {
      "needs_background": "light"
     },
     "output_type": "display_data"
    }
   ],
   "source": [
    "test= np.random.normal(20,5,10000)\n",
    "sm.qqplot(test, loc=20, scale=5, line='45')\n",
    "pylab.show()"
   ]
  },
  {
   "cell_type": "code",
   "execution_count": 3,
   "metadata": {},
   "outputs": [
    {
     "data": {
      "text/plain": [
       "array([16.68232134, 19.96435816, 26.5449701 , ..., 25.48658132,\n",
       "       23.2895204 , 12.73485787])"
      ]
     },
     "execution_count": 3,
     "metadata": {},
     "output_type": "execute_result"
    }
   ],
   "source": [
    "test"
   ]
  },
  {
   "cell_type": "markdown",
   "metadata": {},
   "source": [
    "#1.Explain why the points don’t lie on the line y=x"
   ]
  },
  {
   "cell_type": "markdown",
   "metadata": {},
   "source": [
    "This Q–Q plot compares a sample of data on the vertical axis to a statistical population on the horizontal axis.\n",
    "The points follow a strongly nonlinear pattern, suggesting that the data are not distributed as a standard normal (X ~ N(0,1)). The offset between the line and the points suggests that the mean of the data is not 0."
   ]
  },
  {
   "cell_type": "markdown",
   "metadata": {},
   "source": [
    "#2.what is standard error of the mean?"
   ]
  },
  {
   "cell_type": "markdown",
   "metadata": {},
   "source": [
    "SEM:\n",
    "The standard error is a statistical term that measures the accuracy with which a sample represents a population. In statistics, a sample mean deviates from the actual mean of a population; this deviation is the standard error.\n",
    "Example calculation of SME is given below:"
   ]
  },
  {
   "cell_type": "markdown",
   "metadata": {},
   "source": [
    "Mathematically, the standard error of the mean formula is given by:<br>\n",
    "Standard Error of the Mean<br>\n",
    "$$\\sigma_M = \\frac{\\sigma}{\\sqrt{N}}$$<br>\n",
    "where,<br>\n",
    "$\\sigma_M$ = the standard deviation of the original distribution<br> \n",
    "$N$ = the sample size<br>\n",
    "${\\sqrt{N}}$ = root of the sample size<br>\n",
    "\n",
    "From the formula we can assume that the standard error of the mean decreases as N increases. This is an expected, if the mean at each step is calculated using many data points, then a small deviation in one value will cause less effect on the final mean.\n"
   ]
  },
  {
   "cell_type": "markdown",
   "metadata": {},
   "source": [
    "#3.simulate SEM example using NumPy"
   ]
  },
  {
   "cell_type": "code",
   "execution_count": 6,
   "metadata": {},
   "outputs": [
    {
     "data": {
      "text/plain": [
       "array([3.81881308, 3.81881308, 3.81881308, 3.81881308, 3.81881308])"
      ]
     },
     "execution_count": 6,
     "metadata": {},
     "output_type": "execute_result"
    }
   ],
   "source": [
    "#standard error along the first axis:\n",
    "from scipy import stats\n",
    "a = np.arange(30).reshape(6,5)\n",
    "stats.sem(a)"
   ]
  },
  {
   "cell_type": "code",
   "execution_count": 7,
   "metadata": {},
   "outputs": [
    {
     "data": {
      "text/plain": [
       "1.5802601754844745"
      ]
     },
     "execution_count": 7,
     "metadata": {},
     "output_type": "execute_result"
    }
   ],
   "source": [
    "#standard error across the whole array, using n degrees of freedom:\n",
    "stats.sem(a, axis=None, ddof=0)   "
   ]
  },
  {
   "cell_type": "code",
   "execution_count": 17,
   "metadata": {},
   "outputs": [
    {
     "data": {
      "text/plain": [
       "'C:\\\\Users\\\\Omistaja\\\\Desktop\\\\Intigrify'"
      ]
     },
     "execution_count": 17,
     "metadata": {},
     "output_type": "execute_result"
    }
   ],
   "source": [
    "pwd"
   ]
  },
  {
   "cell_type": "code",
   "execution_count": null,
   "metadata": {},
   "outputs": [],
   "source": []
  }
 ],
 "metadata": {
  "kernelspec": {
   "display_name": "Python 3",
   "language": "python",
   "name": "python3"
  },
  "language_info": {
   "codemirror_mode": {
    "name": "ipython",
    "version": 3
   },
   "file_extension": ".py",
   "mimetype": "text/x-python",
   "name": "python",
   "nbconvert_exporter": "python",
   "pygments_lexer": "ipython3",
   "version": "3.7.0"
  },
  "toc": {
   "base_numbering": 1,
   "nav_menu": {},
   "number_sections": true,
   "sideBar": true,
   "skip_h1_title": false,
   "title_cell": "Table of Contents",
   "title_sidebar": "Contents",
   "toc_cell": false,
   "toc_position": {},
   "toc_section_display": true,
   "toc_window_display": false
  },
  "varInspector": {
   "cols": {
    "lenName": 16,
    "lenType": 16,
    "lenVar": 40
   },
   "kernels_config": {
    "python": {
     "delete_cmd_postfix": "",
     "delete_cmd_prefix": "del ",
     "library": "var_list.py",
     "varRefreshCmd": "print(var_dic_list())"
    },
    "r": {
     "delete_cmd_postfix": ") ",
     "delete_cmd_prefix": "rm(",
     "library": "var_list.r",
     "varRefreshCmd": "cat(var_dic_list()) "
    }
   },
   "types_to_exclude": [
    "module",
    "function",
    "builtin_function_or_method",
    "instance",
    "_Feature"
   ],
   "window_display": false
  }
 },
 "nbformat": 4,
 "nbformat_minor": 2
}
